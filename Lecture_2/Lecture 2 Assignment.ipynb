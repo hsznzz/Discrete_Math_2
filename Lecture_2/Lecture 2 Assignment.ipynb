{
 "cells": [
  {
   "cell_type": "markdown",
   "id": "fc3c9a6f-c41a-4762-82e7-90008029d680",
   "metadata": {},
   "source": [
    "# Discrete Math 2: Lecture 2 Assignment\n",
    "##### by Hestia Meizi L. Tibon\n",
    "##### BS Computer Science - 1 "
   ]
  },
  {
   "cell_type": "markdown",
   "id": "81eef369-53ff-4566-b556-387334a4521a",
   "metadata": {},
   "source": [
    "________________________________________________________________________________________________________________"
   ]
  },
  {
   "cell_type": "markdown",
   "id": "25c206da-bf57-4902-b8e8-1711ac5e9c9f",
   "metadata": {},
   "source": [
    "## **Task 1:**\n",
    "Consider the following experiment:\n",
    "\n",
    "1. The experiment consists of $n$ identical trials.\n",
    "2. The outcome of each trial falls into one of $k$ classes or cells.\n",
    "3. The probability that the outcome of a single trial falls into cell $i$, is $p_i,i = 1,2,...,k$ and remains the same from trial to trial. Notice that $p_1+p_2+p_3+···+p_k =1.$\n",
    "4. The trials are independent.\n",
    "5. The random variables of interest are $Y_1 , Y_2 , . . . , Y_k$, where $Y_i$ equals the number of trials for which the outcome falls into cell $i$. Notice that $Y_1 +Y_2 +Y_3 +···+Y_k =n$.\n",
    "6. The joint probability distribution $P(y) = \\frac{n!}{y_1!y_2!y_3!...y_n!} P_1^{y_1} P_2^{y_2} P_3^{y_3}....P_n^{y_n}$"
   ]
  },
  {
   "cell_type": "markdown",
   "id": "d7ece33d-595c-4afc-bf82-213bd5c305f9",
   "metadata": {},
   "source": [
    "**Question 1:** \n",
    "Show that the expected value $E[y] = \\Sigma y \\cdotp P(y) = n \\cdot p_i$"
   ]
  },
  {
   "cell_type": "markdown",
   "id": "1872a03b-222f-4c22-b996-bff8a1604c9a",
   "metadata": {},
   "source": [
    "**Question 2:** \n",
    "Given the following data\n",
    "\\begin{gather}\n",
    "\\begin{bmatrix}\n",
    "\\begin{array}{c|c}\n",
    "Age & Proportion \\\\\n",
    "18-24 & 0.18 \\\\\n",
    "25-34 & 0.23 \\\\\n",
    "35-44 & 0.16 \\\\\n",
    "45-64 & 0.27 \\\\\n",
    "65-100 & 0.16 \\\\\n",
    "\\end{array}\n",
    "\\end{bmatrix}\n",
    "\\end{gather}\n",
    "\n",
    "If 500 adults are sampled  randomly, find the probability rhat the sample contains 100 person between 18 and 24, 200 between, 200 between the ages of 25 and 34, and 200 between the ages of 45 and 64.. What is the expected value for to obtain a person in the 65 and above?"
   ]
  },
  {
   "cell_type": "markdown",
   "id": "66749b89-5118-4132-a1b6-b16360fa0454",
   "metadata": {},
   "source": [
    "### ***Task 1 Answers:***\n",
    "**Question 1:** \n",
    "\n",
    "To show that the expected value $E[y] = \\sum y \\cdot P(y) = n \\cdot p_i$, we calculate the expected value as follows:\n",
    "\n",
    "$$ E[y] = \\sum_{i=1}^{k} y_i \\cdot P(y) ]$$\n",
    "$$ E[y] = \\sum_{i=1}^{k} y_i \\cdot \\frac{n!}{y_1!y_2!y_3!...y_n!} P_1^{y_1} P_2^{y_2} P_3^{y_3}....P_n^{y_n} ]$$\n",
    "$$ E[y] = \\sum_{i=1}^{k} y_i \\cdot \\frac{n!}{y_1!y_2!y_3!...y_n!} p_1^{y_1} p_2^{y_2} p_3^{y_3}....p_n^{y_n} ]$$\n",
    "$$ E[y] = n \\cdot p_i ]$$\n",
    "\n",
    "**Question 2:**\n",
    "\n",
    "To find the probability that the sample contains 100 persons between 18 and 24, 200 between 25 and 34, and 200 between 45 and 64, use the **multinomial distribution formula**.\n",
    "\n",
    "Given the proportions provided:\n",
    "- $( p_1 = 0.18 ) $ *(probability of selecting a person aged 18-24)*\n",
    "- $( p_2 = 0.23 ) $ *(probability of selecting a person aged 25-34)*\n",
    "- $( p_3 = 0.16 ) $ *(probability of selecting a person aged 35-44)*\n",
    "- $( p_4 = 0.27 ) $ *(probability of selecting a person aged 45-64)*\n",
    "- $( p_5 = 0.16 ) $ *(probability of selecting a person aged 65-100)*\n",
    "\n",
    "The total number of trials \\( n = 500 \\).\n",
    "\n",
    "The probability of selecting 100 persons aged 18-24, 200 persons aged 25-34, and 200 persons aged 45-64 can be calculated using the multinomial distribution formula:\n",
    "\n",
    "$$ P(y_1 = 100, y_2 = 200, y_4 = 200) = \\frac{500!}{100! \\cdot 200! \\cdot 200!} \\cdot (0.18)^{100} \\cdot (0.23)^{200} \\cdot (0.27)^{200} ]$$\n",
    "\n",
    "To find the expected value to obtain a person aged 65 and above, use the formula derived in Question 1:\n",
    "\n",
    "$$ E[y_5] = n \\cdot p_5 = 500 \\cdot 0.16 = 80 $$\n"
   ]
  },
  {
   "cell_type": "markdown",
   "id": "05511d4e-08c2-407c-ad9f-17b37e4f7967",
   "metadata": {},
   "source": [
    "________________________________________________________________________________________________________________"
   ]
  },
  {
   "cell_type": "markdown",
   "id": "4de343b1-bb1f-450b-b303-ab32e0867517",
   "metadata": {},
   "source": [
    "## **Task 2:** \n",
    "Consider the following experiment:\n",
    "\n",
    "1. The experiment consists of a fixed number, $n$, of identical trials.\n",
    "2. Each trial results in one of two outcomes: success, $S$, or failure, $F$.\n",
    "3. The probability of success on a single trial is equal to some value $p$ and remains the same from trial to trial. The probability of a failure is equal to q = $(1 − p)$.\n",
    "4. The trials are independent.\n",
    "5. The random variable of interest is $Y$ , the number of successes observed during the $n$ trials.\n",
    "\n",
    "**Question 1:**\n",
    "From the following steps shown above, derive the probability distribution of the experiment.\n",
    "\n",
    "**Question 2:**\n",
    "Show that the expectation of this probability distribution is $E[y] = \\Sigma y \\cdotp P(y) = np$.\n",
    "\n",
    "**Question 3:**\n",
    "Experience has shown that 30% of all persons afflicted by a certain illness recover. A drug company has developed a new medication. Ten people with the illness were selected at random and received the medication; nine recovered shortly thereafter. Suppose that the medication was absolutely worthless. What is the probability that at least nine of ten receiving the medication will recover?\n",
    "\n",
    "**Question 4:**\n",
    "Suppose that a lot of 5000 electrical fuses contains 5% defectives. If a sample of 5 fuses is tested, find the probability of observing at least one defective.\n"
   ]
  },
  {
   "cell_type": "markdown",
   "id": "4ae23b4c-bd45-402a-b94f-97ca4abd638c",
   "metadata": {},
   "source": [
    "### ***Task 2 Answers:***  \n",
    "\n",
    "**Question 1:**\n",
    "\n",
    "The experiment follows a binomial distribution with parameters $n$ and $p$. The probability mass function (PMF) for the binomial distribution is given by:\n",
    "\n",
    "$$[ P(Y = k) = \\binom{n}{k} p^k (1 - p)^{n - k} ]$$\n",
    "\n",
    "where:\n",
    "- $Y$ is the number of successes observed during the $n$ trials.\n",
    "- $k$ is the number of successes (can range from 0 to $n$).\n",
    "- $p$ is the probability of success on a single trial.\n",
    "- $(1 - p)$ is the probability of failure on a single trial.\n",
    "- $\\binom{n}{k}$ represents the number of combinations of $k$ successes out of $n$ trials.\n",
    "\n",
    "**Question 2:**\n",
    "\n",
    "The expectation (or mean) of a binomial distribution is given by:\n",
    "\n",
    "$$[ E[Y] = \\sum_{k=0}^{n} k \\cdot P(Y=k) = np ]$$\n",
    "\n",
    "where:\n",
    "- $E[Y]$ is the expectation of the random variable $Y$.\n",
    "- $n$ is the number of trials.\n",
    "- $p$ is the probability of success on a single trial.\n",
    "\n",
    "**Question 3:**\n",
    "\n",
    "Given that 30% of afflicted persons recover without medication, and the medication is assumed to be worthless, the probability of recovery for each individual remains 30%.\n",
    "\n",
    "The probability of at least nine out of ten persons recovering with worthless medication can be calculated using the binomial probability formula:\n",
    "\n",
    "$$[ P(Y \\geq 9) = \\sum_{k=9}^{10} \\binom{10}{k} (0.3)^k (0.7)^{10-k} ]$$\n",
    "\n",
    "**Question 4:**\n",
    "\n",
    "In a lot of 5000 electrical fuses containing 5% defectives, the probability of observing at least one defective fuse in a sample of 5 can be calculated using the complement rule:\n",
    "\n",
    "$$[ P(\\text{at least one defective}) = 1 - P(\\text{no defective}) ]$$\n",
    "\n",
    "where the probability of no defective fuse in a sample of 5 can be calculated using the binomial probability formula with $p = 0.05$ and $n = 5$.\n"
   ]
  },
  {
   "cell_type": "markdown",
   "id": "1078e518-8f7c-438a-9195-489d93cd4138",
   "metadata": {},
   "source": [
    "________________________________________________________________________________________________________________"
   ]
  },
  {
   "cell_type": "markdown",
   "id": "9747f810-a345-46b2-9269-cd4bd947a526",
   "metadata": {},
   "source": [
    "## **Task 3:** \n",
    "Consider a probility distribution of $p(y) = \\frac{\\lambda^y}{y!} e^{-\\lambda}$.\n",
    "\n",
    "**Question 1:**\n",
    "Find a general formula for the expected value of this distribution.\n",
    "\n",
    "**Question 2:**\n",
    "A certain type of tree has seedlings randomly dispersed in a large area, with the mean density of seedlings being approximately five per square yard. If a forester randomly locates ten 1-square-yard sampling regions in the area, find the probability that none of the regions will contain seedlings."
   ]
  },
  {
   "cell_type": "markdown",
   "id": "3bc59b4b-cdf6-4ee2-a88d-eb9e63f65d6a",
   "metadata": {},
   "source": [
    "### ***Task 3 Answers:*** \n",
    "Consider a probability distribution of $$( p(y) = \\frac{\\lambda^y}{y!} e^{-\\lambda} )$$\n",
    "\n",
    "**Question 1:**\n",
    "\n",
    "Use the definition of the expected value for a discrete random variable:\n",
    "\n",
    "$$[ E[Y] = \\sum_{y=0}^{\\infty} y \\cdot p(y) ]$$\n",
    "\n",
    "Substitute the given probability distribution $$( p(y) = \\frac{\\lambda^y}{y!} e^{-\\lambda} )$$ into the equation and evaluate the sum.\n",
    "\n",
    "**Question 2:**\n",
    "\n",
    "Given that the mean density of seedlings in the area is approximately five per square yard, we can infer that the parameter in the distribution is 5.\n",
    "\n",
    "Calculate the probability for $( y = 0 )$ in the given distribution:\n",
    "\n",
    "$$[ p(y = 0) = \\frac{\\lambda^0}{0!} e^{-\\lambda} = e^{-\\lambda} ]$$\n",
    "\n",
    "Substitute $( \\lambda = 5 )$ into the equation to find the probability.\n"
   ]
  },
  {
   "cell_type": "code",
   "execution_count": null,
   "id": "da86c414-c581-42f5-bb0d-9ad293826018",
   "metadata": {},
   "outputs": [],
   "source": []
  }
 ],
 "metadata": {
  "kernelspec": {
   "display_name": "Python 3 (ipykernel)",
   "language": "python",
   "name": "python3"
  },
  "language_info": {
   "codemirror_mode": {
    "name": "ipython",
    "version": 3
   },
   "file_extension": ".py",
   "mimetype": "text/x-python",
   "name": "python",
   "nbconvert_exporter": "python",
   "pygments_lexer": "ipython3",
   "version": "3.11.7"
  }
 },
 "nbformat": 4,
 "nbformat_minor": 5
}
