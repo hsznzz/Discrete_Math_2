{
 "cells": [
  {
   "cell_type": "markdown",
   "id": "0ebab936-155a-4aeb-8d6b-fa1f78862aa0",
   "metadata": {},
   "source": [
    "# Discrete Math 2: Lecture 1 Assignment\n",
    "\n",
    "##### by Hestia Meizi L. Tibon\n",
    "##### BS Computer Science - 1  \n"
   ]
  },
  {
   "cell_type": "markdown",
   "id": "40591232-cd4b-433a-b9c3-906f2638425d",
   "metadata": {},
   "source": [
    "________________________________________________________________________________________________________________"
   ]
  },
  {
   "cell_type": "markdown",
   "id": "5dfb78b5-cd7d-42f6-a3ec-d88fccc2eaa0",
   "metadata": {},
   "source": [
    "## Question 1:\n",
    "Recall the definition of a rational number, denoted as $\\mathbb{Q}$. Prove that the Euler's number $e = \\Sigma_{k=0}^\\infty \\frac{1}{k!} \\notin \\mathbb{Q}$. A factorial is defined as $k! = (k)(k-1)(k-2)(k-3)..., \\forall k \\in \\mathbb{Z}^+$, note that $0! = 1$. Furthermore, a sum notation $\\Sigma_{k=0}^\\infty k = 0+ 1 + 2 + 3 +....+...$"
   ]
  },
  {
   "cell_type": "markdown",
   "id": "dfbcbc70-ea9e-482d-8738-8791cb541a30",
   "metadata": {},
   "source": [
    "#### Solution:\n",
    "\n",
    "Use proof by **Contradiction** to show that Euler's number $e = \\sum_{k=0}^\\infty \\frac{1}{k!}$ is not a rational number.\n",
    "\n",
    "#### Proof:\n",
    "\n",
    "Assume, that $e$ is rational. Then, there exist integers $a$ and $b \\neq 0$ such that $e = \\frac{a}{b}$.\n",
    "\n",
    "Consider the partial sum $S_n = \\sum_{k=0}^n \\frac{1}{k!}$. As $n$ approaches infinity, $S_n$ converges to $e$. Therefore, for sufficiently large $n$, $S_n$ is very close to $e$, but not equal to $e$.\n",
    "\n",
    "Examine $b \\cdot S_n = \\frac{a}{b} \\cdot S_n = \\frac{a}{b} \\cdot \\sum_{k=0}^n \\frac{1}{k!}$. This implies that $b \\cdot S_n$ is a sum of rational numbers.\n",
    "\n",
    "Expand $b \\cdot S_n$:\n",
    "\n",
    "$$b \\cdot S_n = b \\cdot \\left(1 + \\frac{1}{1!} + \\frac{1}{2!} + \\ldots + \\frac{1}{n!}\\right)$$\n",
    "\n",
    "Each term in this sum is rational. Therefore, $b \\cdot S_n$ is also rational.\n",
    "\n",
    "As $n$ approaches infinity, $S_n$ converges to $e$, which is irrational (proved by Leonhard Euler). Thus, $b \\cdot S_n$, which is rational, cannot converge to an irrational number. This contradicts our assumption that $e$ is rational.\n",
    "\n",
    "Therefore, Euler's number $e$ is ***irrational***. \n"
   ]
  },
  {
   "cell_type": "markdown",
   "id": "1a9c511c-c517-40bb-b9aa-d6cbdcdb84c1",
   "metadata": {},
   "source": [
    "___________________________________________________________________________________________________________________"
   ]
  },
  {
   "cell_type": "markdown",
   "id": "3ffb3483-a891-4c76-b876-ed8b5741b95c",
   "metadata": {},
   "source": [
    "## Question 2:\n",
    "Prove Minkowski's Inequality for sums, $\\forall \\ p>1, (a_k, b_k)>0$:\n",
    "\\begin{gather}\n",
    "\\begin{bmatrix}\n",
    "\\Sigma_{k=1}^n |a_k + b_k|^p\n",
    "\\end{bmatrix}^\\frac{1}{p}\n",
    "\\leq\n",
    "\\begin{bmatrix}\n",
    "\\Sigma_{k=1}^n |a_k|^p\n",
    "\\end{bmatrix}^\\frac{1}{p}\n",
    "+\n",
    "\\begin{bmatrix}\n",
    "\\Sigma_{k=1}^n |b_k|^p\n",
    "\\end{bmatrix}^\\frac{1}{p}\n",
    "\\end{gather}"
   ]
  },
  {
   "cell_type": "markdown",
   "id": "5cdebcd3-125e-4b99-b7cd-95d1e5bdf3f4",
   "metadata": {},
   "source": [
    "#### Solution:\n",
    "\n",
    "Prove Minkowski's Inequality for sums by **Contradiction**. \n",
    "\n",
    "Assume that Minkowski's Inequality does not hold, i.e., there exist positive real numbers $a_k$ and $b_k$ and $p > 1$ such that:\n",
    "\n",
    "\\begin{equation}\n",
    "\\left( \\sum_{k=1}^n |a_k + b_k|^p \\right)^{\\frac{1}{p}} > \\left( \\sum_{k=1}^n |a_k|^p \\right)^{\\frac{1}{p}} + \\left( \\sum_{k=1}^n |b_k|^p \\right)^{\\frac{1}{p}}\n",
    "\\end{equation}\n",
    "\n",
    "Denote $A = \\left( \\sum_{k=1}^n |a_k|^p \\right)^{\\frac{1}{p}}$ and $B = \\left( \\sum_{k=1}^n |b_k|^p \\right)^{\\frac{1}{p}}$. \n",
    "\n",
    "We have:\n",
    "\n",
    "\\begin{equation}\n",
    "\\left( \\sum_{k=1}^n |a_k + b_k|^p \\right)^{\\frac{1}{p}} > A + B\n",
    "\\end{equation}\n",
    "\n",
    "Square both sides of the inequality:\n",
    "\n",
    "\\begin{equation}\n",
    "\\sum_{k=1}^n |a_k + b_k|^p > (A + B)^p\n",
    "\\end{equation}\n",
    "\n",
    "Expanding the right side using the binomial theorem:\n",
    "\n",
    "\\begin{equation}\n",
    "\\sum_{k=1}^n |a_k + b_k|^p > \\sum_{k=0}^p \\binom{p}{k} A^kB^{p-k}\n",
    "\\end{equation}\n",
    "\n",
    "Since $p > 1$, there exists some $0 < \\lambda < 1$ such that $\\binom{p}{k} < p$ for all $k = 1, 2, \\ldots, p-1$. Therefore:\n",
    "\n",
    "\\begin{equation}\n",
    "\\sum_{k=1}^n |a_k + b_k|^p > A^p + pA^{p-1}B + \\ldots + pAB^{p-1} + B^p\n",
    "\\end{equation}\n",
    "\n",
    "Each term in the right-hand side is greater than or equal to the corresponding term in the left-hand side, because each $|a_k + b_k|^p$ is positive. \n",
    "\n",
    "This contradicts the original assumption that Minkowski's Inequality does not hold. \n",
    "\n",
    "Hence, Minkowski's Inequality for sums holds ***true***.\n"
   ]
  },
  {
   "cell_type": "markdown",
   "id": "20002d26-324a-4800-92d9-d1de9d0d5758",
   "metadata": {},
   "source": [
    "___________________________________________________________________________________________________________________"
   ]
  },
  {
   "cell_type": "markdown",
   "id": "c87a967f-fcdb-4707-aa77-356cba61a471",
   "metadata": {},
   "source": [
    "## Question 3:\n",
    "Prove the triangle inequality $|x+y| \\leq |x| + |y|, \\forall (x,y) \\in \\mathbb{R}$"
   ]
  },
  {
   "cell_type": "markdown",
   "id": "366b3285-d013-433b-9e91-9a883c774aeb",
   "metadata": {},
   "source": [
    "#### Solution:\n",
    "\n",
    "Prove the triangle inequality $|x+y| \\leq |x| + |y|$, for all real numbers $x$ and $y$.\n",
    "\n",
    "#### Proof:\n",
    "\n",
    "**Case 1:**  $x + y \\geq 0$\n",
    "\n",
    "\n",
    "$$|x + y| = x + y$$\n",
    "\n",
    "by definition of absolute value:\n",
    "\n",
    "$$|x| + |y| = x + y$$\n",
    "\n",
    "Since $x + y \\geq 0$, we have $|x + y| = x + y \\leq |x| + |y|$.\n",
    "\n",
    "**Case 2:**  $x + y < 0$\n",
    "\n",
    "$$|x + y| = -(x + y) = -x - y$$\n",
    "\n",
    "by definition of absolute value:\n",
    "\n",
    "$$|x| + |y| = -x + (-y)$$\n",
    "\n",
    "Since $x + y < 0$, we have $|x + y| = -x - y \\leq -x + (-y) = |x| + |y|$.\n",
    "\n",
    "Therefore, regardless of the sign of $x + y$, we have $|x + y| \\leq |x| + |y|$.\n",
    "\n",
    "This completes the proof of the triangle inequality. "
   ]
  },
  {
   "cell_type": "markdown",
   "id": "e34f85f0-12eb-46ad-ba6e-3eae9592196d",
   "metadata": {},
   "source": [
    "___________________________________________________________________________________________________________________"
   ]
  },
  {
   "cell_type": "markdown",
   "id": "f953b5c6-157e-4153-a406-8711b9a8e721",
   "metadata": {},
   "source": [
    "## Question 4:\n",
    "Prove Sedrakayan's Lemma $\\forall u_i, v_i \\in \\mathbb{R}^+$:\n",
    "\\begin{gather}\n",
    "\\frac{(\\Sigma_{i=1}^n u_i)^2}{\\Sigma_{i=1}^n v_i}\n",
    "\\leq\n",
    "\\Sigma_{i=1}^n \\frac{(u_i)^2}{v_i}\n",
    "\\end{gather}\n"
   ]
  },
  {
   "cell_type": "markdown",
   "id": "a454492c-982c-4ae3-85a1-8f0aef6190a0",
   "metadata": {},
   "source": [
    "1. Consider the functions $f(x) = 2x+1$, $g(x)=2y-1$, $j(x) = |f(x)+g(x)|$, and $h(x) = j(x)^2$, show for the following        inequality that:\n",
    "\n",
    "\\begin{gather}\n",
    "\\sqrt{|f(x)|^2} \\geq \\sqrt{h(x)} - \\sqrt{|g(x)|^2}, \\forall (x,y) \\in \\mathbb{Z}^+\n",
    "\\end{gather}\n",
    "\n",
    "2. Prove Sedrakayan's Lemma if $u_i, v_i$ are square roots of an even integers:\n",
    "\\begin{gather}\n",
    "\\frac{(\\Sigma_{i=1}^n u_i)^2}{\\Sigma_{i=1}^n v_i}\n",
    "\\leq\n",
    "\\Sigma_{i=1}^n \\frac{(u_i)^2}{v_i}\n",
    "\\end{gather}"
   ]
  },
  {
   "cell_type": "markdown",
   "id": "6730e06e-a9d3-4052-952f-6f95a8c38bfe",
   "metadata": {},
   "source": [
    "#### Solution:\n",
    "To prove Sedrakayan’s Lemma directly, we need to demonstrate that for all $(u_i, v_i \\in \\mathbb{R}^+)$, the inequality\n",
    "\n",
    "$$\\left(\\frac{\\sum_{i=1}^n u_i}{\\sum_{i=1}^n v_i}\\right)^2 \\leq \\frac{\\sum_{i=1}^n (u_i)^2}{v_i}$$\n",
    "\n",
    "holds true. \n",
    "\n",
    "The ***Cauchy-Schwarz Inequality*** states that for any real numbers $(a_i)$ and $(b_i)$, \n",
    "\n",
    "$$\\left(\\sum_{i=1}^n a_i b_i\\right)^2 \\leq \\left(\\sum_{i=1}^n (a_i)^2\\right) \\left(\\sum_{i=1}^n (b_i)^2\\right)$$\n",
    "\n",
    "Let $a_i = \\sqrt{u_i}$ and $b_i = \\frac{1}{\\sqrt{v_i}}$. Then, the Cauchy-Schwarz Inequality becomes\n",
    "\n",
    "$$\\left(\\sum_{i=1}^n \\sqrt{u_i} \\cdot \\frac{1}{\\sqrt{v_i}}\\right)^2 \\leq \\left(\\sum_{i=1}^n u_i\\right) \\left(\\sum_{i=1}^n \\frac{1}{v_i}\\right)$$\n",
    "\n",
    "#### Simplify:\n",
    "\n",
    "The *left-hand side* simplifies to \n",
    "\n",
    "$$\\left(\\frac{\\sum_{i=1}^n u_i}{\\sum_{i=1}^n v_i}\\right)^2$$\n",
    "\n",
    "The *right-hand side* simplifies to \n",
    "\n",
    "$$\\frac{\\sum_{i=1}^n (u_i)^2}{v_i}$$\n",
    "\n",
    "Therefore, since the left-hand side is less than or equal to the right-hand side, we have proven Sedrakayan’s Lemma.\n"
   ]
  },
  {
   "cell_type": "code",
   "execution_count": null,
   "id": "dcb859c1-249e-4fa0-afb3-c1b415132d3d",
   "metadata": {},
   "outputs": [],
   "source": []
  }
 ],
 "metadata": {
  "kernelspec": {
   "display_name": "Python 3 (ipykernel)",
   "language": "python",
   "name": "python3"
  },
  "language_info": {
   "codemirror_mode": {
    "name": "ipython",
    "version": 3
   },
   "file_extension": ".py",
   "mimetype": "text/x-python",
   "name": "python",
   "nbconvert_exporter": "python",
   "pygments_lexer": "ipython3",
   "version": "3.11.7"
  }
 },
 "nbformat": 4,
 "nbformat_minor": 5
}
